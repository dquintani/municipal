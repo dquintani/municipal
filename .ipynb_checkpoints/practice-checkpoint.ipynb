{
 "cells": [
  {
   "cell_type": "code",
   "execution_count": 3,
   "id": "2343de54-7f5c-455c-9a3d-7f914853efd2",
   "metadata": {},
   "outputs": [
    {
     "name": "stdout",
     "output_type": "stream",
     "text": [
      "Dash is running on http://127.0.0.1:8050/\n",
      "\n",
      "Dash is running on http://127.0.0.1:8050/\n",
      "\n",
      "Dash is running on http://127.0.0.1:8050/\n",
      "\n",
      " * Serving Flask app '__main__' (lazy loading)\n",
      " * Environment: production\n",
      "\u001b[31m   WARNING: This is a development server. Do not use it in a production deployment.\u001b[0m\n",
      "\u001b[2m   Use a production WSGI server instead.\u001b[0m\n",
      " * Debug mode: off\n"
     ]
    }
   ],
   "source": [
    "# import dash\n",
    "# import dash_core_components as dcc\n",
    "# import dash_html_components as html\n",
    "# from dash import html\n",
    "# import plotly.express as px\n",
    "# import pandas as pd\n",
    "\n",
    "# app = dash.Dash(__name__)\n",
    "\n",
    "# # assume you have a \"long-form\" data frame\n",
    "# # see https://plotly.com/python/px-arguments/ for more options\n",
    "# df = pd.DataFrame({\n",
    "#     \"Fruit\": [\"Apples\", \"Oranges\", \"Bananas\", \"Apples\", \"Oranges\", \"Bananas\"],\n",
    "#     \"Amount\": [4, 1, 2, 2, 4, 5],\n",
    "#     \"City\": [\"SF\", \"SF\", \"SF\", \"Montreal\", \"Montreal\", \"Montreal\"]\n",
    "# })\n",
    "\n",
    "# fig = px.bar(df, x=\"Fruit\", y=\"Amount\", color=\"City\", barmode=\"group\")\n",
    "\n",
    "# app.layout = html.Div(children=[\n",
    "#     html.H1(children='Hello Dash'),\n",
    "\n",
    "#     html.Div(children='''\n",
    "#         Dash: A web application framework for your data.\n",
    "#     '''),\n",
    "\n",
    "#     dcc.Graph(\n",
    "#         id='example-graph',\n",
    "#         figure=fig\n",
    "#     )\n",
    "# ])\n",
    "\n",
    "# if __name__ == '__main__':\n",
    "#     app.run_server(debug=False)"
   ]
  }
 ],
 "metadata": {
  "kernelspec": {
   "display_name": "Python 3 (ipykernel)",
   "language": "python",
   "name": "python3"
  },
  "language_info": {
   "codemirror_mode": {
    "name": "ipython",
    "version": 3
   },
   "file_extension": ".py",
   "mimetype": "text/x-python",
   "name": "python",
   "nbconvert_exporter": "python",
   "pygments_lexer": "ipython3",
   "version": "3.9.7"
  }
 },
 "nbformat": 4,
 "nbformat_minor": 5
}
